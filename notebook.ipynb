{
 "cells": [
  {
   "cell_type": "code",
   "execution_count": 23,
   "id": "cd83fe09-cd21-464a-a4fe-7ea9b35e44bf",
   "metadata": {
    "executionCancelledAt": null,
    "executionTime": 53,
    "lastExecutedAt": 1730803583597,
    "lastExecutedByKernel": "3a49fc80-2d29-4799-ac70-77c3046a94ce",
    "lastScheduledRunId": null,
    "lastSuccessfullyExecutedCode": "# Load the CSV data into DataFrames\nsuper_bowls = pd.read_csv(\"datasets/super_bowls.csv\")\nsuper_bowls.head()",
    "outputsMetadata": {
     "0": {
      "height": 50,
      "tableState": {
       "customFilter": {
        "const": {
         "type": "boolean",
         "valid": true,
         "value": true
        },
        "id": "9fca0b5f-f82b-49da-af60-7d6112cb72ec",
        "nodeType": "const"
       },
       "quickFilterText": ""
      },
      "type": "dataFrame"
     }
    }
   },
   "outputs": [
    {
     "data": {
      "application/com.datacamp.data-table.v2+json": {
       "table": {
        "data": {
         "attendance": [
          67612,
          70807,
          71088,
          70288,
          82529
         ],
         "city": [
          "Minneapolis",
          "Houston",
          "Santa Clara",
          "Glendale",
          "East Rutherford"
         ],
         "coach_loser": [
          "Bill Belichick",
          "Dan Quinn",
          "Ron Rivera",
          "Pete Carroll",
          "John Fox"
         ],
         "coach_winner": [
          "Doug Pederson",
          "Bill Belichick",
          "Gary Kubiak",
          "Bill Belichick",
          "Pete Carroll"
         ],
         "combined_pts": [
          74,
          62,
          34,
          52,
          51
         ],
         "date": [
          "2018-02-04",
          "2017-02-05",
          "2016-02-07",
          "2015-02-01",
          "2014-02-02"
         ],
         "difference_pts": [
          8,
          6,
          14,
          4,
          35
         ],
         "index": [
          0,
          1,
          2,
          3,
          4
         ],
         "losing_pts": [
          33,
          28,
          10,
          24,
          8
         ],
         "qb_loser_1": [
          "Tom Brady",
          "Matt Ryan",
          "Cam Newton",
          "Russell Wilson",
          "Peyton Manning"
         ],
         "qb_loser_2": [
          null,
          null,
          null,
          null,
          null
         ],
         "qb_winner_1": [
          "Nick Foles",
          "Tom Brady",
          "Peyton Manning",
          "Tom Brady",
          "Russell Wilson"
         ],
         "qb_winner_2": [
          null,
          null,
          null,
          null,
          null
         ],
         "state": [
          "Minnesota",
          "Texas",
          "California",
          "Arizona",
          "New Jersey"
         ],
         "super_bowl": [
          52,
          51,
          50,
          49,
          48
         ],
         "team_loser": [
          "New England Patriots",
          "Atlanta Falcons",
          "Carolina Panthers",
          "Seattle Seahawks",
          "Denver Broncos"
         ],
         "team_winner": [
          "Philadelphia Eagles",
          "New England Patriots",
          "Denver Broncos",
          "New England Patriots",
          "Seattle Seahawks"
         ],
         "venue": [
          "U.S. Bank Stadium",
          "NRG Stadium",
          "Levi's Stadium",
          "University of Phoenix Stadium",
          "MetLife Stadium"
         ],
         "winning_pts": [
          41,
          34,
          24,
          28,
          43
         ]
        },
        "schema": {
         "fields": [
          {
           "name": "index",
           "type": "integer"
          },
          {
           "name": "date",
           "type": "string"
          },
          {
           "name": "super_bowl",
           "type": "integer"
          },
          {
           "name": "venue",
           "type": "string"
          },
          {
           "name": "city",
           "type": "string"
          },
          {
           "name": "state",
           "type": "string"
          },
          {
           "name": "attendance",
           "type": "integer"
          },
          {
           "name": "team_winner",
           "type": "string"
          },
          {
           "name": "winning_pts",
           "type": "integer"
          },
          {
           "name": "qb_winner_1",
           "type": "string"
          },
          {
           "name": "qb_winner_2",
           "type": "string"
          },
          {
           "name": "coach_winner",
           "type": "string"
          },
          {
           "name": "team_loser",
           "type": "string"
          },
          {
           "name": "losing_pts",
           "type": "integer"
          },
          {
           "name": "qb_loser_1",
           "type": "string"
          },
          {
           "name": "qb_loser_2",
           "type": "string"
          },
          {
           "name": "coach_loser",
           "type": "string"
          },
          {
           "name": "combined_pts",
           "type": "integer"
          },
          {
           "name": "difference_pts",
           "type": "integer"
          }
         ],
         "pandas_version": "1.4.0",
         "primaryKey": [
          "index"
         ]
        }
       },
       "total_rows": 5,
       "truncation_type": null
      },
      "text/html": [
       "<div>\n",
       "<style scoped>\n",
       "    .dataframe tbody tr th:only-of-type {\n",
       "        vertical-align: middle;\n",
       "    }\n",
       "\n",
       "    .dataframe tbody tr th {\n",
       "        vertical-align: top;\n",
       "    }\n",
       "\n",
       "    .dataframe thead th {\n",
       "        text-align: right;\n",
       "    }\n",
       "</style>\n",
       "<table border=\"1\" class=\"dataframe\">\n",
       "  <thead>\n",
       "    <tr style=\"text-align: right;\">\n",
       "      <th></th>\n",
       "      <th>date</th>\n",
       "      <th>super_bowl</th>\n",
       "      <th>venue</th>\n",
       "      <th>city</th>\n",
       "      <th>state</th>\n",
       "      <th>attendance</th>\n",
       "      <th>team_winner</th>\n",
       "      <th>winning_pts</th>\n",
       "      <th>qb_winner_1</th>\n",
       "      <th>qb_winner_2</th>\n",
       "      <th>coach_winner</th>\n",
       "      <th>team_loser</th>\n",
       "      <th>losing_pts</th>\n",
       "      <th>qb_loser_1</th>\n",
       "      <th>qb_loser_2</th>\n",
       "      <th>coach_loser</th>\n",
       "      <th>combined_pts</th>\n",
       "      <th>difference_pts</th>\n",
       "    </tr>\n",
       "  </thead>\n",
       "  <tbody>\n",
       "    <tr>\n",
       "      <th>0</th>\n",
       "      <td>2018-02-04</td>\n",
       "      <td>52</td>\n",
       "      <td>U.S. Bank Stadium</td>\n",
       "      <td>Minneapolis</td>\n",
       "      <td>Minnesota</td>\n",
       "      <td>67612</td>\n",
       "      <td>Philadelphia Eagles</td>\n",
       "      <td>41</td>\n",
       "      <td>Nick Foles</td>\n",
       "      <td>NaN</td>\n",
       "      <td>Doug Pederson</td>\n",
       "      <td>New England Patriots</td>\n",
       "      <td>33</td>\n",
       "      <td>Tom Brady</td>\n",
       "      <td>NaN</td>\n",
       "      <td>Bill Belichick</td>\n",
       "      <td>74</td>\n",
       "      <td>8</td>\n",
       "    </tr>\n",
       "    <tr>\n",
       "      <th>1</th>\n",
       "      <td>2017-02-05</td>\n",
       "      <td>51</td>\n",
       "      <td>NRG Stadium</td>\n",
       "      <td>Houston</td>\n",
       "      <td>Texas</td>\n",
       "      <td>70807</td>\n",
       "      <td>New England Patriots</td>\n",
       "      <td>34</td>\n",
       "      <td>Tom Brady</td>\n",
       "      <td>NaN</td>\n",
       "      <td>Bill Belichick</td>\n",
       "      <td>Atlanta Falcons</td>\n",
       "      <td>28</td>\n",
       "      <td>Matt Ryan</td>\n",
       "      <td>NaN</td>\n",
       "      <td>Dan Quinn</td>\n",
       "      <td>62</td>\n",
       "      <td>6</td>\n",
       "    </tr>\n",
       "    <tr>\n",
       "      <th>2</th>\n",
       "      <td>2016-02-07</td>\n",
       "      <td>50</td>\n",
       "      <td>Levi's Stadium</td>\n",
       "      <td>Santa Clara</td>\n",
       "      <td>California</td>\n",
       "      <td>71088</td>\n",
       "      <td>Denver Broncos</td>\n",
       "      <td>24</td>\n",
       "      <td>Peyton Manning</td>\n",
       "      <td>NaN</td>\n",
       "      <td>Gary Kubiak</td>\n",
       "      <td>Carolina Panthers</td>\n",
       "      <td>10</td>\n",
       "      <td>Cam Newton</td>\n",
       "      <td>NaN</td>\n",
       "      <td>Ron Rivera</td>\n",
       "      <td>34</td>\n",
       "      <td>14</td>\n",
       "    </tr>\n",
       "    <tr>\n",
       "      <th>3</th>\n",
       "      <td>2015-02-01</td>\n",
       "      <td>49</td>\n",
       "      <td>University of Phoenix Stadium</td>\n",
       "      <td>Glendale</td>\n",
       "      <td>Arizona</td>\n",
       "      <td>70288</td>\n",
       "      <td>New England Patriots</td>\n",
       "      <td>28</td>\n",
       "      <td>Tom Brady</td>\n",
       "      <td>NaN</td>\n",
       "      <td>Bill Belichick</td>\n",
       "      <td>Seattle Seahawks</td>\n",
       "      <td>24</td>\n",
       "      <td>Russell Wilson</td>\n",
       "      <td>NaN</td>\n",
       "      <td>Pete Carroll</td>\n",
       "      <td>52</td>\n",
       "      <td>4</td>\n",
       "    </tr>\n",
       "    <tr>\n",
       "      <th>4</th>\n",
       "      <td>2014-02-02</td>\n",
       "      <td>48</td>\n",
       "      <td>MetLife Stadium</td>\n",
       "      <td>East Rutherford</td>\n",
       "      <td>New Jersey</td>\n",
       "      <td>82529</td>\n",
       "      <td>Seattle Seahawks</td>\n",
       "      <td>43</td>\n",
       "      <td>Russell Wilson</td>\n",
       "      <td>NaN</td>\n",
       "      <td>Pete Carroll</td>\n",
       "      <td>Denver Broncos</td>\n",
       "      <td>8</td>\n",
       "      <td>Peyton Manning</td>\n",
       "      <td>NaN</td>\n",
       "      <td>John Fox</td>\n",
       "      <td>51</td>\n",
       "      <td>35</td>\n",
       "    </tr>\n",
       "  </tbody>\n",
       "</table>\n",
       "</div>"
      ],
      "text/plain": [
       "         date  super_bowl  ... combined_pts difference_pts\n",
       "0  2018-02-04          52  ...           74              8\n",
       "1  2017-02-05          51  ...           62              6\n",
       "2  2016-02-07          50  ...           34             14\n",
       "3  2015-02-01          49  ...           52              4\n",
       "4  2014-02-02          48  ...           51             35\n",
       "\n",
       "[5 rows x 18 columns]"
      ]
     },
     "execution_count": 23,
     "metadata": {},
     "output_type": "execute_result"
    }
   ],
   "source": [
    "# Load the CSV data into DataFrames\n",
    "super_bowls = pd.read_csv(\"datasets/super_bowls.csv\")\n",
    "super_bowls.head()"
   ]
  },
  {
   "cell_type": "code",
   "execution_count": 24,
   "id": "a6e17e28-6668-4ec1-a910-69b4c6805fd9",
   "metadata": {
    "chartConfig": {
     "bar": {
      "hasRoundedCorners": true,
      "stacked": false
     },
     "groupBy": {
      "field": "index",
      "type": "integer"
     },
     "type": "bar",
     "version": "v1",
     "x": {
      "field": "index",
      "type": "integer"
     },
     "y": {
      "field": "index",
      "type": "integer"
     }
    },
    "executionCancelledAt": null,
    "executionTime": 52,
    "lastExecutedAt": 1730803583649,
    "lastExecutedByKernel": "3a49fc80-2d29-4799-ac70-77c3046a94ce",
    "lastScheduledRunId": null,
    "lastSuccessfullyExecutedCode": "tv = pd.read_csv(\"datasets/tv.csv\")\ntv.head()",
    "outputsMetadata": {
     "0": {
      "height": 50,
      "tableState": {
       "customFilter": {
        "const": {
         "type": "boolean",
         "valid": true,
         "value": true
        },
        "id": "9fca0b5f-f82b-49da-af60-7d6112cb72ec",
        "nodeType": "const"
       },
       "quickFilterText": ""
      },
      "type": "dataFrame"
     }
    },
    "visualizeDataframe": false
   },
   "outputs": [
    {
     "data": {
      "application/com.datacamp.data-table.v2+json": {
       "table": {
        "data": {
         "ad_cost": [
          5000000,
          5000000,
          5000000,
          4500000,
          4000000
         ],
         "avg_us_viewers": [
          103390000,
          111319000,
          111864000,
          114442000,
          112191000
         ],
         "index": [
          0,
          1,
          2,
          3,
          4
         ],
         "network": [
          "NBC",
          "Fox",
          "CBS",
          "NBC",
          "Fox"
         ],
         "rating_18_49": [
          33.4,
          37.1,
          37.7,
          39.1,
          39.3
         ],
         "rating_household": [
          43.1,
          45.3,
          46.6,
          47.5,
          46.7
         ],
         "share_18_49": [
          78,
          79,
          79,
          79,
          77
         ],
         "share_household": [
          68,
          73,
          72,
          71,
          69
         ],
         "super_bowl": [
          52,
          51,
          50,
          49,
          48
         ],
         "total_us_viewers": [
          null,
          172000000,
          167000000,
          168000000,
          167000000
         ]
        },
        "schema": {
         "fields": [
          {
           "name": "index",
           "type": "integer"
          },
          {
           "name": "super_bowl",
           "type": "integer"
          },
          {
           "name": "network",
           "type": "string"
          },
          {
           "name": "avg_us_viewers",
           "type": "integer"
          },
          {
           "name": "total_us_viewers",
           "type": "number"
          },
          {
           "name": "rating_household",
           "type": "number"
          },
          {
           "name": "share_household",
           "type": "integer"
          },
          {
           "name": "rating_18_49",
           "type": "number"
          },
          {
           "name": "share_18_49",
           "type": "number"
          },
          {
           "name": "ad_cost",
           "type": "integer"
          }
         ],
         "pandas_version": "1.4.0",
         "primaryKey": [
          "index"
         ]
        }
       },
       "total_rows": 5,
       "truncation_type": null
      },
      "text/html": [
       "<div>\n",
       "<style scoped>\n",
       "    .dataframe tbody tr th:only-of-type {\n",
       "        vertical-align: middle;\n",
       "    }\n",
       "\n",
       "    .dataframe tbody tr th {\n",
       "        vertical-align: top;\n",
       "    }\n",
       "\n",
       "    .dataframe thead th {\n",
       "        text-align: right;\n",
       "    }\n",
       "</style>\n",
       "<table border=\"1\" class=\"dataframe\">\n",
       "  <thead>\n",
       "    <tr style=\"text-align: right;\">\n",
       "      <th></th>\n",
       "      <th>super_bowl</th>\n",
       "      <th>network</th>\n",
       "      <th>avg_us_viewers</th>\n",
       "      <th>total_us_viewers</th>\n",
       "      <th>rating_household</th>\n",
       "      <th>share_household</th>\n",
       "      <th>rating_18_49</th>\n",
       "      <th>share_18_49</th>\n",
       "      <th>ad_cost</th>\n",
       "    </tr>\n",
       "  </thead>\n",
       "  <tbody>\n",
       "    <tr>\n",
       "      <th>0</th>\n",
       "      <td>52</td>\n",
       "      <td>NBC</td>\n",
       "      <td>103390000</td>\n",
       "      <td>NaN</td>\n",
       "      <td>43.1</td>\n",
       "      <td>68</td>\n",
       "      <td>33.4</td>\n",
       "      <td>78.0</td>\n",
       "      <td>5000000</td>\n",
       "    </tr>\n",
       "    <tr>\n",
       "      <th>1</th>\n",
       "      <td>51</td>\n",
       "      <td>Fox</td>\n",
       "      <td>111319000</td>\n",
       "      <td>172000000.0</td>\n",
       "      <td>45.3</td>\n",
       "      <td>73</td>\n",
       "      <td>37.1</td>\n",
       "      <td>79.0</td>\n",
       "      <td>5000000</td>\n",
       "    </tr>\n",
       "    <tr>\n",
       "      <th>2</th>\n",
       "      <td>50</td>\n",
       "      <td>CBS</td>\n",
       "      <td>111864000</td>\n",
       "      <td>167000000.0</td>\n",
       "      <td>46.6</td>\n",
       "      <td>72</td>\n",
       "      <td>37.7</td>\n",
       "      <td>79.0</td>\n",
       "      <td>5000000</td>\n",
       "    </tr>\n",
       "    <tr>\n",
       "      <th>3</th>\n",
       "      <td>49</td>\n",
       "      <td>NBC</td>\n",
       "      <td>114442000</td>\n",
       "      <td>168000000.0</td>\n",
       "      <td>47.5</td>\n",
       "      <td>71</td>\n",
       "      <td>39.1</td>\n",
       "      <td>79.0</td>\n",
       "      <td>4500000</td>\n",
       "    </tr>\n",
       "    <tr>\n",
       "      <th>4</th>\n",
       "      <td>48</td>\n",
       "      <td>Fox</td>\n",
       "      <td>112191000</td>\n",
       "      <td>167000000.0</td>\n",
       "      <td>46.7</td>\n",
       "      <td>69</td>\n",
       "      <td>39.3</td>\n",
       "      <td>77.0</td>\n",
       "      <td>4000000</td>\n",
       "    </tr>\n",
       "  </tbody>\n",
       "</table>\n",
       "</div>"
      ],
      "text/plain": [
       "   super_bowl network  avg_us_viewers  ...  rating_18_49  share_18_49  ad_cost\n",
       "0          52     NBC       103390000  ...          33.4         78.0  5000000\n",
       "1          51     Fox       111319000  ...          37.1         79.0  5000000\n",
       "2          50     CBS       111864000  ...          37.7         79.0  5000000\n",
       "3          49     NBC       114442000  ...          39.1         79.0  4500000\n",
       "4          48     Fox       112191000  ...          39.3         77.0  4000000\n",
       "\n",
       "[5 rows x 9 columns]"
      ]
     },
     "execution_count": 24,
     "metadata": {},
     "output_type": "execute_result"
    }
   ],
   "source": [
    "tv = pd.read_csv(\"datasets/tv.csv\")\n",
    "tv.head()"
   ]
  },
  {
   "cell_type": "code",
   "execution_count": 25,
   "id": "5a89e5fb-796b-4a4d-b637-eda7e0acd50d",
   "metadata": {
    "chartConfig": {
     "bar": {
      "hasRoundedCorners": true,
      "stacked": false
     },
     "type": "bar",
     "version": "v1"
    },
    "executionCancelledAt": null,
    "executionTime": 48,
    "lastExecutedAt": 1730803583697,
    "lastExecutedByKernel": "3a49fc80-2d29-4799-ac70-77c3046a94ce",
    "lastScheduledRunId": null,
    "lastSuccessfullyExecutedCode": "halftime_musicians = pd.read_csv(\"datasets/halftime_musicians.csv\")\nhalftime_musicians.head()",
    "outputsMetadata": {
     "0": {
      "height": 50,
      "tableState": {
       "customFilter": {
        "const": {
         "type": "boolean",
         "valid": true,
         "value": true
        },
        "id": "9fca0b5f-f82b-49da-af60-7d6112cb72ec",
        "nodeType": "const"
       },
       "quickFilterText": ""
      },
      "type": "dataFrame"
     }
    },
    "visualizeDataframe": false
   },
   "outputs": [
    {
     "data": {
      "application/com.datacamp.data-table.v2+json": {
       "table": {
        "data": {
         "index": [
          0,
          1,
          2,
          3,
          4
         ],
         "musician": [
          "Justin Timberlake",
          "University of Minnesota Marching Band",
          "Lady Gaga",
          "Coldplay",
          "Beyoncé"
         ],
         "num_songs": [
          11,
          1,
          7,
          6,
          3
         ],
         "super_bowl": [
          52,
          52,
          51,
          50,
          50
         ]
        },
        "schema": {
         "fields": [
          {
           "name": "index",
           "type": "integer"
          },
          {
           "name": "super_bowl",
           "type": "integer"
          },
          {
           "name": "musician",
           "type": "string"
          },
          {
           "name": "num_songs",
           "type": "number"
          }
         ],
         "pandas_version": "1.4.0",
         "primaryKey": [
          "index"
         ]
        }
       },
       "total_rows": 5,
       "truncation_type": null
      },
      "text/html": [
       "<div>\n",
       "<style scoped>\n",
       "    .dataframe tbody tr th:only-of-type {\n",
       "        vertical-align: middle;\n",
       "    }\n",
       "\n",
       "    .dataframe tbody tr th {\n",
       "        vertical-align: top;\n",
       "    }\n",
       "\n",
       "    .dataframe thead th {\n",
       "        text-align: right;\n",
       "    }\n",
       "</style>\n",
       "<table border=\"1\" class=\"dataframe\">\n",
       "  <thead>\n",
       "    <tr style=\"text-align: right;\">\n",
       "      <th></th>\n",
       "      <th>super_bowl</th>\n",
       "      <th>musician</th>\n",
       "      <th>num_songs</th>\n",
       "    </tr>\n",
       "  </thead>\n",
       "  <tbody>\n",
       "    <tr>\n",
       "      <th>0</th>\n",
       "      <td>52</td>\n",
       "      <td>Justin Timberlake</td>\n",
       "      <td>11.0</td>\n",
       "    </tr>\n",
       "    <tr>\n",
       "      <th>1</th>\n",
       "      <td>52</td>\n",
       "      <td>University of Minnesota Marching Band</td>\n",
       "      <td>1.0</td>\n",
       "    </tr>\n",
       "    <tr>\n",
       "      <th>2</th>\n",
       "      <td>51</td>\n",
       "      <td>Lady Gaga</td>\n",
       "      <td>7.0</td>\n",
       "    </tr>\n",
       "    <tr>\n",
       "      <th>3</th>\n",
       "      <td>50</td>\n",
       "      <td>Coldplay</td>\n",
       "      <td>6.0</td>\n",
       "    </tr>\n",
       "    <tr>\n",
       "      <th>4</th>\n",
       "      <td>50</td>\n",
       "      <td>Beyoncé</td>\n",
       "      <td>3.0</td>\n",
       "    </tr>\n",
       "  </tbody>\n",
       "</table>\n",
       "</div>"
      ],
      "text/plain": [
       "   super_bowl                               musician  num_songs\n",
       "0          52                      Justin Timberlake       11.0\n",
       "1          52  University of Minnesota Marching Band        1.0\n",
       "2          51                              Lady Gaga        7.0\n",
       "3          50                               Coldplay        6.0\n",
       "4          50                                Beyoncé        3.0"
      ]
     },
     "execution_count": 25,
     "metadata": {},
     "output_type": "execute_result"
    }
   ],
   "source": [
    "halftime_musicians = pd.read_csv(\"datasets/halftime_musicians.csv\")\n",
    "halftime_musicians.head()"
   ]
  },
  {
   "cell_type": "code",
   "execution_count": 26,
   "id": "8de1e7f0-9164-4da8-97af-a3095ea15a32",
   "metadata": {
    "executionCancelledAt": null,
    "executionTime": 394,
    "lastExecutedAt": 1730803584091,
    "lastExecutedByKernel": "3a49fc80-2d29-4799-ac70-77c3046a94ce",
    "lastScheduledRunId": null,
    "lastSuccessfullyExecutedCode": "# Start coding here\n# Use as many cells as you need\n\nimport pandas as pd\nfrom matplotlib import pyplot as plt\nimport seaborn as sns\n\n\ntv = pd.read_csv(\"datasets/tv.csv\")\nsns.relplot(x=\"super_bowl\",y=\"avg_us_viewers\", data=tv, kind='line')\nplt.show()\n\nviewership_increased = True\n\nsuper_bowls = pd.read_csv(\"datasets/super_bowls.csv\")\ndifference = super_bowls[super_bowls[\"difference_pts\"]>40].shape[0]\n\nhalftime_musicians = pd.read_csv(\"datasets/halftime_musicians.csv\")\nmost_songs=halftime_musicians.sort_values(by=\"num_songs\", ascending=False).head(1)[\"musician\"].iloc[0]\n\n\n\n\n",
    "outputsMetadata": {
     "0": {
      "height": 222,
      "type": "dataFrame"
     },
     "1": {
      "height": 38,
      "type": "stream"
     }
    }
   },
   "outputs": [
    {
     "data": {
      "image/png": "[encoded data removed]",
      "text/plain": [
       "<Figure size 500x500 with 1 Axes>"
      ]
     },
     "metadata": {
      "image/png": {
       "height": 487,
       "width": 489
      }
     },
     "output_type": "display_data"
    }
   ],
   "source": [
    "\n",
    "import pandas as pd\n",
    "from matplotlib import pyplot as plt\n",
    "import seaborn as sns\n",
    "\n",
    "\n",
    "tv = pd.read_csv(\"datasets/tv.csv\")\n",
    "sns.relplot(x=\"super_bowl\",y=\"avg_us_viewers\", data=tv, kind='line')\n",
    "plt.show()\n",
    "\n",
    "viewership_increased = True\n",
    "\n",
    "super_bowls = pd.read_csv(\"datasets/super_bowls.csv\")\n",
    "difference = super_bowls[super_bowls[\"difference_pts\"]>40].shape[0]\n",
    "\n",
    "halftime_musicians = pd.read_csv(\"datasets/halftime_musicians.csv\")\n",
    "most_songs=halftime_musicians.sort_values(by=\"num_songs\", ascending=False).head(1)[\"musician\"].iloc[0]\n",
    "\n",
    "\n",
    "\n",
    "\n"
   ]
  }
 ],
 "metadata": {
  "colab": {
   "name": "Welcome to DataCamp Workspaces.ipynb",
   "provenance": []
  },
  "editor": "DataLab",
  "kernelspec": {
   "display_name": "Python 3 (ipykernel)",
   "language": "python",
   "name": "python3"
  },
  "language_info": {
   "codemirror_mode": {
    "name": "ipython",
    "version": 3
   },
   "file_extension": ".py",
   "mimetype": "text/x-python",
   "name": "python",
   "nbconvert_exporter": "python",
   "pygments_lexer": "ipython3",
   "version": "3.8.10"
  }
 },
 "nbformat": 4,
 "nbformat_minor": 5
}
